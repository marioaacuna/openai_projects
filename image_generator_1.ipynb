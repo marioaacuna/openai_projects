{
 "cells": [
  {
   "cell_type": "code",
   "execution_count": 9,
   "metadata": {
    "collapsed": true,
    "pycharm": {
     "name": "#%%\n"
    }
   },
   "outputs": [],
   "source": [
    "# Imports\n",
    "import pandas as pd\n",
    "import openai"
   ]
  },
  {
   "cell_type": "code",
   "execution_count": null,
   "outputs": [],
   "source": [
    "# read CSV\n",
    "T = pd.read_csv('API_key.csv')\n",
    "key = T['OpenAI API key']\n",
    "key = key[0]\n",
    "openai.api_key = key"
   ],
   "metadata": {
    "collapsed": false,
    "pycharm": {
     "name": "#%%\n"
    }
   }
  },
  {
   "cell_type": "code",
   "execution_count": null,
   "outputs": [],
   "source": [
    "\n",
    "## Make images\n",
    "#image_to_generate = input('Your imput:')\n",
    "image_to_generate = 'rockwall, tone black, with 4 main vertical cracks. Texture opaque. Seen from 3 mts away. resembling the Eiger mountain in switzerland'\n",
    "response = openai.Image.create(\n",
    "  prompt=image_to_generate,\n",
    "  n=1,\n",
    "  size=\"1024x1024\"\n",
    ")\n",
    "mage_url = response['data'][0]['url']\n",
    "print(mage_url)"
   ],
   "metadata": {
    "collapsed": false,
    "pycharm": {
     "name": "#%%\n"
    }
   }
  },
  {
   "cell_type": "code",
   "execution_count": null,
   "outputs": [],
   "source": [
    "\n",
    "filename = 'openAI_image'\n",
    "response = requests.get(image_url, stream=True)\n",
    "with open(filename, 'wb') as out_file:\n",
    "    shutil.copyfileobj(response.raw, out_file)\n",
    "    response.close()\n",
    "img = Image.open('openAI_image')\n",
    "img = img.resize((400,600))\n",
    "img.save(image_to_generate + '.jpg')"
   ],
   "metadata": {
    "collapsed": false,
    "pycharm": {
     "name": "#%%\n"
    }
   }
  }
 ],
 "metadata": {
  "kernelspec": {
   "display_name": "Python 3",
   "language": "python",
   "name": "python3"
  },
  "language_info": {
   "codemirror_mode": {
    "name": "ipython",
    "version": 2
   },
   "file_extension": ".py",
   "mimetype": "text/x-python",
   "name": "python",
   "nbconvert_exporter": "python",
   "pygments_lexer": "ipython2",
   "version": "2.7.6"
  }
 },
 "nbformat": 4,
 "nbformat_minor": 0
}